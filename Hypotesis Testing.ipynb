{
 "cells": [
  {
   "cell_type": "code",
   "execution_count": 386,
   "metadata": {},
   "outputs": [],
   "source": [
    "import numpy as np\n",
    "import matplotlib.pyplot as plt\n",
    "import pandas as pd\n",
    "import seaborn as sns\n",
    "from scipy import stats as st\n",
    "import random\n",
    "%matplotlib inline"
   ]
  },
  {
   "cell_type": "code",
   "execution_count": 390,
   "metadata": {},
   "outputs": [],
   "source": [
    "class HypotesisTest(object):\n",
    "\n",
    "    def __init__(self, data):\n",
    "        self.data = data\n",
    "        self.make_model()\n",
    "        self.current = self.test_statistic(data)\n",
    "\n",
    "    def make_model(self):\n",
    "        pass\n",
    "\n",
    "    def p_value(self, iters=1000):\n",
    "        total = 0\n",
    "        for _ in range(iters):\n",
    "            simulated_model = self.run_model()\n",
    "            if self.test_statistic(simulated_model) > self.current:\n",
    "                total += 1\n",
    "        return 1.0*total/iters"
   ]
  },
  {
   "cell_type": "markdown",
   "metadata": {},
   "source": [
    "## Z-Test\n",
    "\n",
    "-The reason we are using a Z test instead of a T-test like we do in the later examples is that the standard deviation of the population is provided for us, and we expect that our sample matches the population.\n",
    "\n",
    "- Formula: Z = (x̄ - u0)/ (σ/sqrt(n))\n",
    "- x̄ ​is the sample mean  \n",
    "- u0 ​is the population mean  \n",
    "- σ  ​is the population standard deviation\n",
    "- n ​is the test sample size\n",
    "\n",
    "Since the problem asks us to conclude if we are greater than the average, not just different than the average, we will use a 1 tailed Z value. 1 tailed vs 2 tailed is shown graphically below.\n"
   ]
  },
  {
   "cell_type": "code",
   "execution_count": 206,
   "metadata": {},
   "outputs": [
    {
     "data": {
      "text/plain": [
       "0.9614500641282292"
      ]
     },
     "execution_count": 206,
     "metadata": {},
     "output_type": "execute_result"
    }
   ],
   "source": [
    "def hyp_test(mu_pop, std_pop, mu_sample, sample_size):\n",
    "    std_sample = std_pop/np.sqrt(sample_size)\n",
    "    z = (mu_pop - mu_sample)/std_sample    \n",
    "    p_value = st.norm.cdf(z)\n",
    "    return p_value\n",
    "\n",
    "hyp_test(26.5,10, 24, 50)"
   ]
  },
  {
   "cell_type": "markdown",
   "metadata": {},
   "source": [
    "### Doing A T-Test, Which Is Slightly Different Than A Z Test\n",
    "Let’s do another example that has one big difference from the first one.  That difference is that the standard deviation of the population is not provided. In real life, this will probably be more common.\n",
    "In addition to calculating your own standard deviation, the other big difference between a Z-test and a T-test is that all Z-tests use the standard normal distribution, and the T-test uses a different distribution that varies depending on how much data that you have, a metric known as degrees of freedom (df).\n",
    "\n",
    "Summary of a T-test \n",
    "- In a T-test, you have to use the sample data to determine the standard deviation of the population, as opposed to it being provided  \n",
    "- Because of the uncertainty in the standard deviation, the T-distribution puts more probability at the tails of the probability distribution  \n",
    "- With enough data, the T-distribution exactly matches the standard normal distribution.  (i.e. you could use a T-table or a Z-table and get the same result)  \n",
    "- Enough data is usually assumed to be a df somewhere between 20 and 50.  (That value is something of a judgment call.  If you want to see how T-distribution changes as you change the degrees of freedom, this online tool is useful.\n"
   ]
  },
  {
   "cell_type": "markdown",
   "metadata": {},
   "source": [
    "## 1 Sample T-Test"
   ]
  },
  {
   "cell_type": "markdown",
   "metadata": {},
   "source": [
    "You have been told that the average height of female college students in the United States is 5.5 feet.  You have measured 15 students at your college, and want to determine if the average height at your college is statistically different than the average across the U.S. Here we know the population mean, 5.5 feet, but not the population standard deviation.  We will have to derive that from our data.  (With this type of test there is an assumption that the population standard deviation is not systematically different from the data that we have. For instance, we didn't intentionally admit students based on their height in order to make a narrow distribution.)\n",
    "\n",
    "We have 1 sample set of data.  That sample set is only 15 measurements.  We have a population mean, but not a population standard deviation.   Since we don’t have a population standard deviation, and we have fewer than 20 samples, we will want to do a T test.\n",
    "\n",
    "These are the key points of our problem We have exactly 1 set of data. \n",
    "- We don’t have a before and after.  \n",
    "- We don’t have a test group and a control group.  \n",
    "- We have 1 and only 1 set of data.  We do have a population mean to calculate our difference off of\n",
    "- We do not have a population standard deviation\n",
    "\n",
    "De forma muito simular ao z-test, a formula é: Z = (x̄ - u0)/ (s/sqrt(n))\n",
    "- x̄  ​is the sample mean  \n",
    "- u0 ​is the population mean  \n",
    "- s ​is the sample standard deviation  (Única diferença)\n",
    "- n ​is the test sample size\n"
   ]
  },
  {
   "cell_type": "code",
   "execution_count": 250,
   "metadata": {},
   "outputs": [
    {
     "data": {
      "text/plain": [
       "0.3104528182847635"
      ]
     },
     "execution_count": 250,
     "metadata": {},
     "output_type": "execute_result"
    }
   ],
   "source": [
    "sample_height = np.array([5.1, 5.2, 5.4, 5.5, 5.5, 5.6, 5.6, 5.7, 5.7, 5.8, 5.8, 5.9, 6, 6.1, 6.2])\n",
    "n=len(sample_height)\n",
    "s_mean = sample_height.mean()\n",
    "s = sample_height.std(ddof=1) #com 15-1 graus de liberdade\n",
    "s"
   ]
  },
  {
   "cell_type": "code",
   "execution_count": 251,
   "metadata": {},
   "outputs": [
    {
     "data": {
      "text/plain": [
       "0.3104528182847635"
      ]
     },
     "execution_count": 251,
     "metadata": {},
     "output_type": "execute_result"
    }
   ],
   "source": [
    "#Testando calculo de df\n",
    "diff = sample_height - sample_height.mean()\n",
    "np.sqrt(np.sum(diff**2)/(n-1))"
   ]
  },
  {
   "cell_type": "code",
   "execution_count": 254,
   "metadata": {},
   "outputs": [],
   "source": [
    "t = (s_mean-5.5)/s*np.sqrt(n)\n",
    "pvalue_1_tail = 1-stats.t.cdf(t,df=n-1)"
   ]
  },
  {
   "cell_type": "markdown",
   "metadata": {},
   "source": [
    "Pelo fato de problema só querer saber se a altura é igual, é um problema two tailed. Portanto precisamos multiplicar a probabilidade por 2."
   ]
  },
  {
   "cell_type": "code",
   "execution_count": 255,
   "metadata": {},
   "outputs": [
    {
     "data": {
      "text/plain": [
       "0.0483873342746417"
      ]
     },
     "execution_count": 255,
     "metadata": {},
     "output_type": "execute_result"
    }
   ],
   "source": [
    "pvalue_1_tail*2"
   ]
  },
  {
   "cell_type": "markdown",
   "metadata": {},
   "source": [
    "stats.ttest_1samp(a, popmean, axis=0, nan_policy='propagate')\n",
    "\n",
    "É um two-sided test."
   ]
  },
  {
   "cell_type": "code",
   "execution_count": 288,
   "metadata": {},
   "outputs": [
    {
     "data": {
      "text/plain": [
       "Ttest_1sampResult(statistic=2.162380477173991, pvalue=0.048387334274641654)"
      ]
     },
     "execution_count": 288,
     "metadata": {},
     "output_type": "execute_result"
    }
   ],
   "source": [
    "stats.ttest_1samp(sample_height, 5.5)"
   ]
  },
  {
   "cell_type": "markdown",
   "metadata": {},
   "source": [
    "Portanto, sim, podemos dizer com confiança maior que 95% que as alturas são estatisticamente diferentes.\n",
    "\n",
    "**Um ponto importante do t-test, é que como utilizamos df-1, o número mínimo de dados da amostra deve ser 2, ao contrario do z-test, que é 1.**"
   ]
  },
  {
   "cell_type": "markdown",
   "metadata": {},
   "source": [
    "## Solving The Paired T-Test\n",
    "\n",
    "- When You Use The Same Test Subject Multiple Times\n",
    "\n",
    "The difference between this third example and the second example is that a mean value isn’t provided in this example.  Instead you get two sets of data representing a before and an after.  Instead of calculating the difference from the mean, we will calculate how much the “after” data set changed from the “before” data set and determine if that level of change is significant.\n",
    "\n",
    "For instance you would use this test if\n",
    "\n",
    "- You are making a new golf club and measure how far people can hit a golf ball with a standard club vs your new club  \n",
    "- You are a high priced restaurant consultant, and you measure weekly sales in a restaurant before your visit, and after you come in to give advice and make improvements  \n",
    "\n",
    "You would not use this analysis, and instead use a different equation if \n",
    "\n",
    "- You have a drug trial and give one group of people a placebo and the other group your new drug, and measure the blood pressure of both groups.  - You give 10 people your new golf clubs and 10 people your old ones and see how well each group scores on a round of golf  \n",
    "- You measure the sale of restaurants you have consulted, and compare them with similar restaurants in the area that haven’t utilized your services yet\n"
   ]
  },
  {
   "cell_type": "markdown",
   "metadata": {},
   "source": [
    "- d ​is the average of the difference between the after sample and the before sample  \n",
    "- s  ​is the sample standard deviation. É o desvio padrão das diferenças!\n",
    "- n ​is the test sample size. Não é a somatória dos dois grupos, é o numero de pares.\n",
    "- t = d / raiz(s²/n)\n",
    "- OU T = d*raiz(n)/s"
   ]
  },
  {
   "cell_type": "code",
   "execution_count": 257,
   "metadata": {},
   "outputs": [],
   "source": [
    "avg_1, avg_2 = 137.95, 132.6\n",
    "d = avg_2 - avg_1\n",
    "s = 5.6127\n",
    "n = 20"
   ]
  },
  {
   "cell_type": "code",
   "execution_count": 258,
   "metadata": {},
   "outputs": [
    {
     "data": {
      "text/plain": [
       "0.00021027117309136648"
      ]
     },
     "execution_count": 258,
     "metadata": {},
     "output_type": "execute_result"
    }
   ],
   "source": [
    "t = d*np.sqrt(n)/s\n",
    "stats.t.cdf(t,df=n-1)"
   ]
  },
  {
   "cell_type": "markdown",
   "metadata": {},
   "source": [
    "Podemos afirmar com mais de 99% de confiança que os participantes perderam peso"
   ]
  },
  {
   "cell_type": "markdown",
   "metadata": {},
   "source": [
    "ttest_rel(a, b[, axis, nan_policy])\n",
    "\n",
    "Calculate the t-test on TWO RELATED samples of scores, a and b."
   ]
  },
  {
   "cell_type": "markdown",
   "metadata": {},
   "source": [
    "### Paired T-Test With Non-Zero Hypothesis\n",
    "\n",
    "- d ​is the average of the difference between the after sample and the before sample  \n",
    "- s  ​is the sample standard deviation. É o desvio padrão das diferenças!\n",
    "- n ​is the test sample size. Não é a somatória dos dois grupos, é o numero de pares.\n",
    "- ou t = (d-u)*raiz(n)/s\n",
    "- u is the hypothesized mean difference\n"
   ]
  },
  {
   "cell_type": "code",
   "execution_count": 259,
   "metadata": {},
   "outputs": [
    {
     "data": {
      "text/plain": [
       "0.14172507295339493"
      ]
     },
     "execution_count": 259,
     "metadata": {},
     "output_type": "execute_result"
    }
   ],
   "source": [
    "avg_1, avg_2 = 137.95, 132.6\n",
    "d = avg_2 - avg_1\n",
    "s = 5.6127\n",
    "n = 21\n",
    "u = -4\n",
    "t = (d-u)*np.sqrt(n)/s\n",
    "stats.t.cdf(t,df=n-1)"
   ]
  },
  {
   "cell_type": "markdown",
   "metadata": {},
   "source": [
    "Não podemos concluir nada, pois é 14% de chance da diferençar acontecer ao acaso. Qual a maior diferença que podemos afirmar que com 95% de confiança"
   ]
  },
  {
   "cell_type": "code",
   "execution_count": 260,
   "metadata": {},
   "outputs": [
    {
     "data": {
      "text/plain": [
       "-1.7247182429207863"
      ]
     },
     "execution_count": 260,
     "metadata": {},
     "output_type": "execute_result"
    }
   ],
   "source": [
    "t = stats.t.ppf(0.05,df=n-1)\n",
    "t"
   ]
  },
  {
   "cell_type": "markdown",
   "metadata": {},
   "source": [
    "- t = (d-u)\n",
    "- u = d- t/np.sqrt(n)/s"
   ]
  },
  {
   "cell_type": "code",
   "execution_count": 261,
   "metadata": {},
   "outputs": [
    {
     "data": {
      "text/plain": [
       "-3.2375796655804483"
      ]
     },
     "execution_count": 261,
     "metadata": {},
     "output_type": "execute_result"
    }
   ],
   "source": [
    "u = d-t/np.sqrt(n)*s\n",
    "u"
   ]
  },
  {
   "cell_type": "markdown",
   "metadata": {},
   "source": [
    "Portanto, para u = -3.238, podemos afirmar com 95% de confiaça. Ou seja, pederam em média 3.18kg. Para testar:"
   ]
  },
  {
   "cell_type": "code",
   "execution_count": 263,
   "metadata": {},
   "outputs": [
    {
     "data": {
      "text/plain": [
       "0.05000000000000009"
      ]
     },
     "execution_count": 263,
     "metadata": {},
     "output_type": "execute_result"
    }
   ],
   "source": [
    "#Validando\n",
    "avg_1, avg_2 = 137.95, 132.6\n",
    "d = avg_2 - avg_1\n",
    "s = 5.6127\n",
    "n = 21\n",
    "u = -3.2375796655804483\n",
    "t = (d-(u))*np.sqrt(n)/s\n",
    "stats.t.cdf(t,df=n-1)"
   ]
  },
  {
   "cell_type": "markdown",
   "metadata": {},
   "source": [
    "Ao invés disso, podemos calcular quantas pessoas precisariamos do teste para afirmar com 95% de confiança que o peso baixou"
   ]
  },
  {
   "cell_type": "code",
   "execution_count": 182,
   "metadata": {},
   "outputs": [
    {
     "data": {
      "text/plain": [
       "51.6812282215952"
      ]
     },
     "execution_count": 182,
     "metadata": {},
     "output_type": "execute_result"
    }
   ],
   "source": [
    "avg_1, avg_2 = 137.95, 132.6\n",
    "d = avg_2 - avg_1\n",
    "s = 5.6127\n",
    "u = -4\n",
    "n = (t*s/(d-u))**2\n",
    "t = -1.7291328115213678\n",
    "stats.t.cdf(t,df=n-1)\n",
    "n = (t*s/(d-u))**2\n",
    "n"
   ]
  },
  {
   "cell_type": "markdown",
   "metadata": {},
   "source": [
    "# Two-Sample T-Tests\n",
    "\n",
    "The final two examples are the type of statistical significance calculations you probably most commonly think of for any medicinal scientific study. In these examples, you essentially have two groups, one of which is the control and the other is the study group.\n",
    "\n",
    "Unlike the Paired T-Tests we showed in the last example, these tests are done when the members of the population are not the same.  I.e. you aren't getting a baseline result from a person and then getting another result from the same person later.\n"
   ]
  },
  {
   "cell_type": "markdown",
   "metadata": {},
   "source": [
    "### Solving The T-Test With Equal Variance Problem:\n",
    "\n",
    "Hartshorn, Scott. Hypothesis Testing: A Visual Introduction To Statistical Significance (p. 81). Edição do Kindle. \n",
    "mean_1, means_2 = 1.73, 2.19"
   ]
  },
  {
   "cell_type": "code",
   "execution_count": 195,
   "metadata": {},
   "outputs": [
    {
     "data": {
      "text/plain": [
       "-1.741540891906013"
      ]
     },
     "execution_count": 195,
     "metadata": {},
     "output_type": "execute_result"
    }
   ],
   "source": [
    "mean_1, mean_2 = 1.73, 2.19\n",
    "s1, s2 = 0.624, 0.611\n",
    "n1, n2 = 10, 12\n",
    "df = n1 + n2 -2\n",
    "\n",
    "means_diff = mean_1 - mean_2\n",
    "avg_std = np.sqrt(((n1-1)*s1**2 + (n2-1)*s2**2)/(n1+n2-2))\n",
    "raiz_num_of_samples = np.sqrt(1/n1 + 1/n2)\n",
    "t = means_diff/(avg_std*raiz_num_of_samples)\n",
    "t"
   ]
  },
  {
   "cell_type": "code",
   "execution_count": 197,
   "metadata": {},
   "outputs": [
    {
     "data": {
      "text/plain": [
       "0.09694965482212217"
      ]
     },
     "execution_count": 197,
     "metadata": {},
     "output_type": "execute_result"
    }
   ],
   "source": [
    "stats.t.cdf(t,df=df)*2 # two-tailed"
   ]
  },
  {
   "cell_type": "markdown",
   "metadata": {},
   "source": [
    "Em python, existe um biblioteca pronta que faz o teste entre as duas amostras, caso a variancia seja igual, equal_var = True, senão False.\n",
    "\n",
    "Por defalt a função calcula two tail teste, pra cacular one tail, basta dividir por 2.\n",
    "\n",
    "scipy.stats.ttest_ind(a, b, axis=0, equal_var=True, nan_policy='propagate')[source]"
   ]
  },
  {
   "cell_type": "code",
   "execution_count": 437,
   "metadata": {},
   "outputs": [],
   "source": [
    "a = np.array([1.4, 2.5, 1.6, 2.3, 0.9, 1.1, 2.7, 2.1, 1.3, 1.4])\n",
    "b = np.array([2.2, 3, 1.9, 2.1, 2.7, 1.6, 1.3, 3.0, 3.1, 1.9, 1.7, 1.8])"
   ]
  },
  {
   "cell_type": "code",
   "execution_count": 444,
   "metadata": {
    "scrolled": true
   },
   "outputs": [
    {
     "data": {
      "text/plain": [
       "Ttest_indResult(statistic=-1.7479367565919788, pvalue=0.0958111125484402)"
      ]
     },
     "execution_count": 444,
     "metadata": {},
     "output_type": "execute_result"
    }
   ],
   "source": [
    "stats.ttest_ind(a,b, equal_var=True)"
   ]
  },
  {
   "cell_type": "code",
   "execution_count": 441,
   "metadata": {},
   "outputs": [],
   "source": [
    "class DiffMeansPermute(HypotesisTest):\n",
    "\n",
    "    def test_statistic(self, data):\n",
    "        data1, data2 = data\n",
    "        mean1 = np.mean(data1)\n",
    "        mean2 = np.mean(data2)\n",
    "        return abs(mean1-mean2)\n",
    "\n",
    "    def make_model(self):\n",
    "        group1, group2 = self.data\n",
    "        self.n, self.m = len(group1), len(group2)\n",
    "        self.pool = np.hstack((group1, group2))\n",
    "        \n",
    "    def run_model(self):\n",
    "       np.random.shuffle(self.pool)\n",
    "       data = self.pool[:self.n], self.pool[self.n:]\n",
    "       return data"
   ]
  },
  {
   "cell_type": "code",
   "execution_count": 445,
   "metadata": {},
   "outputs": [
    {
     "data": {
      "text/plain": [
       "0.0892"
      ]
     },
     "execution_count": 445,
     "metadata": {},
     "output_type": "execute_result"
    }
   ],
   "source": [
    "t_test = DiffMeansPermute([a,b])\n",
    "t_test.p_value(10000)"
   ]
  },
  {
   "cell_type": "markdown",
   "metadata": {},
   "source": [
    "### Example 5 - 2 Sample T-Test With Unequal Variance\n",
    "\n",
    "Hartshorn, Scott. Hypothesis Testing: A Visual Introduction To Statistical Significance (p. 93). Edição do Kindle. \n",
    "##### t = (mean_1 - mean_2)/np.sqrt(s1**2/n1+ s2**2/n2)\n",
    "##### df = (s1**2/n1+s2**2/n2)**2/((s1**2/n1)**2/(n1-1) + (s2**2/n2)**2/(n2-1))"
   ]
  },
  {
   "cell_type": "code",
   "execution_count": 199,
   "metadata": {},
   "outputs": [
    {
     "data": {
      "text/plain": [
       "1.3624411800391447"
      ]
     },
     "execution_count": 199,
     "metadata": {},
     "output_type": "execute_result"
    }
   ],
   "source": [
    "mean_1, mean_2 = 13.93, 11.85\n",
    "s1, s2 = 5.298, 2.444\n",
    "n1, n2 = 15, 13\n",
    "df = n1 + n2 -2\n",
    "t = (mean_1 - mean_2)/np.sqrt(s1**2/n1+ s2**2/n2)\n",
    "t"
   ]
  },
  {
   "cell_type": "code",
   "execution_count": 201,
   "metadata": {},
   "outputs": [
    {
     "data": {
      "text/plain": [
       "20.291934735713617"
      ]
     },
     "execution_count": 201,
     "metadata": {},
     "output_type": "execute_result"
    }
   ],
   "source": [
    "df = (s1**2/n1+s2**2/n2)**2/((s1**2/n1)**2/(n1-1) + (s2**2/n2)**2/(n2-1))\n",
    "df"
   ]
  },
  {
   "cell_type": "code",
   "execution_count": 204,
   "metadata": {},
   "outputs": [
    {
     "data": {
      "text/plain": [
       "0.0939952845509906"
      ]
     },
     "execution_count": 204,
     "metadata": {},
     "output_type": "execute_result"
    }
   ],
   "source": [
    "1-stats.t.cdf(t,df=df) # one-tailed\n"
   ]
  },
  {
   "cell_type": "code",
   "execution_count": 277,
   "metadata": {},
   "outputs": [],
   "source": [
    "a = [10,19,17,14,20,9,6,15,19,5,7,20,14,15,19]\n",
    "b = [8,8,9,10,11,13,15,14,15,13,12,13,13]"
   ]
  },
  {
   "cell_type": "code",
   "execution_count": 282,
   "metadata": {},
   "outputs": [],
   "source": [
    "ttest = stats.ttest_ind(a,b, equal_var=False)"
   ]
  },
  {
   "cell_type": "code",
   "execution_count": 286,
   "metadata": {},
   "outputs": [
    {
     "data": {
      "text/plain": [
       "0.0932649889346001"
      ]
     },
     "execution_count": 286,
     "metadata": {},
     "output_type": "execute_result"
    }
   ],
   "source": [
    "#Divimos por 2 para obter one tailed\n",
    "ttest.pvalue/2"
   ]
  },
  {
   "cell_type": "markdown",
   "metadata": {},
   "source": [
    "Caso tenhamos a estatística descritiva:\n",
    "\n",
    "tats.ttest_ind_from_stats(\n",
    "    mean1,\n",
    "    std1,\n",
    "    nobs1,\n",
    "    mean2,\n",
    "    std2,\n",
    "    nobs2,\n",
    "    equal_var=True,\n",
    ")"
   ]
  },
  {
   "cell_type": "code",
   "execution_count": 291,
   "metadata": {},
   "outputs": [
    {
     "data": {
      "text/plain": [
       "0.09399528455099063"
      ]
     },
     "execution_count": 291,
     "metadata": {},
     "output_type": "execute_result"
    }
   ],
   "source": [
    "stats.ttest_ind_from_stats(mean_1, s1, n1,mean_2, s2, n2,equal_var=False).pvalue/2"
   ]
  },
  {
   "cell_type": "code",
   "execution_count": null,
   "metadata": {},
   "outputs": [],
   "source": []
  },
  {
   "cell_type": "markdown",
   "metadata": {},
   "source": [
    "# Binomial theorem"
   ]
  },
  {
   "cell_type": "markdown",
   "metadata": {},
   "source": [
    "This is another example using the binomial directly equation and not Pascal’s triangle.  Here let’s assume that you are gambling at a casino and you decide to play 100 hands of blackjack.  Surprisingly, your odds of winning any given hand are actually 55%, maybe you are counting cards or something.  What are the chances that after 100 hands you have won exactly 51 of them?\n",
    "\n",
    "Em python podemos usar uma distribuição binomial e retornar um valor especifico usando a PMF\n",
    "\n",
    "pmf(k, n, p, loc=0)\n",
    "stats.binom.pmf(51,100,0.55)\n",
    "\n",
    "n!/(k!(n-k)!)*p^k*(1-p)^(n-k)"
   ]
  },
  {
   "cell_type": "code",
   "execution_count": 308,
   "metadata": {},
   "outputs": [
    {
     "data": {
      "text/plain": [
       "0.057698440792920386"
      ]
     },
     "execution_count": 308,
     "metadata": {},
     "output_type": "execute_result"
    }
   ],
   "source": [
    "stats.binom.pmf(51,100,0.55)\n",
    "# ou\n",
    "binom = stats.binom(100,0.55)\n",
    "binom.pmf(51)"
   ]
  },
  {
   "cell_type": "code",
   "execution_count": 304,
   "metadata": {},
   "outputs": [
    {
     "data": {
      "text/plain": [
       "0.05769844079292199"
      ]
     },
     "execution_count": 304,
     "metadata": {},
     "output_type": "execute_result"
    }
   ],
   "source": [
    "#Ou Calculando na mão\n",
    "np.math.factorial(100)/np.math.factorial(51)/np.math.factorial(49)*(0.55**51)*(0.45**49)"
   ]
  },
  {
   "cell_type": "markdown",
   "metadata": {},
   "source": [
    "The previous example showed the probability of getting exactly 51 wins out of 100 bets.  Honestly that example felt a little bit contrived, because in the real world what you are more frequently concerned with is “at least” or “no more than” rather than an exact value.\n",
    "\n",
    "Qual a probabilidade de ganhar 51 mãos ou mais? Nesse caso podemos usar a CDF"
   ]
  },
  {
   "cell_type": "code",
   "execution_count": 311,
   "metadata": {},
   "outputs": [
    {
     "data": {
      "text/plain": [
       "0.7595733745209339"
      ]
     },
     "execution_count": 311,
     "metadata": {},
     "output_type": "execute_result"
    }
   ],
   "source": [
    "binom = stats.binom(100,0.55)\n",
    "1-binom.cdf(51)"
   ]
  },
  {
   "cell_type": "markdown",
   "metadata": {},
   "source": [
    "76%, faz bastante sentido!"
   ]
  },
  {
   "cell_type": "code",
   "execution_count": 358,
   "metadata": {},
   "outputs": [
    {
     "data": {
      "image/png": "[encoded data removed]",
      "text/plain": [
       "<Figure size 864x360 with 2 Axes>"
      ]
     },
     "metadata": {
      "needs_background": "light"
     },
     "output_type": "display_data"
    }
   ],
   "source": [
    "dist = stats.binom(100,0.55)\n",
    "fig, ax = plt.subplots(nrows=1,ncols=2, figsize=(12,5))\n",
    "x = np.arange(dist.ppf(0.001),dist.ppf(0.999))\n",
    "y_pmf = dist.pmf(x)\n",
    "\n",
    "ax[0].step(x,y_pmf)\n",
    "ax[0].set_xlabel('Número de Vitórias')\n",
    "ax[0].set_ylabel('Probability')\n",
    "ax[0].set_title('PMF')\n",
    "\n",
    "\n",
    "y_cdf = dist.cdf(x)\n",
    "ax[1].step(x,y_cdf)\n",
    "ax[1].set_xlabel('Número de Vitórias')\n",
    "ax[1].set_ylabel('Probability')\n",
    "ax[1].set_title('CDF')\n",
    "ax[0].grid()\n",
    "ax[1].grid()\n",
    "plt.show()"
   ]
  },
  {
   "cell_type": "code",
   "execution_count": 344,
   "metadata": {},
   "outputs": [
    {
     "data": {
      "text/plain": [
       "0.3769531250000001"
      ]
     },
     "execution_count": 344,
     "metadata": {},
     "output_type": "execute_result"
    }
   ],
   "source": [
    "# Caso jogue a moeda 10 vezes, qual a chance de dar 4 ou menos caras?\n",
    "dist = stats.binom(10,0.50)\n",
    "dist.cdf(4)"
   ]
  },
  {
   "cell_type": "markdown",
   "metadata": {},
   "source": [
    "Fortunately, it turns out that the results from a binomial expansion are fairly close to the normal curve, if the number of binomial events is large enough.   If we assume a normal curve, then all we need is the mean value and the standard deviation of the binomial distribution and we can use those results for our calculations without having to solve for every branch in the binomial expansion.\n",
    "\n",
    "Hartshorn, Scott. Probability With The Binomial Distribution And Pascal's Triangle: A Key Idea In Statistics . Edição do Kindle. "
   ]
  },
  {
   "cell_type": "code",
   "execution_count": 350,
   "metadata": {},
   "outputs": [
    {
     "data": {
      "text/plain": [
       "2.5"
      ]
     },
     "execution_count": 350,
     "metadata": {},
     "output_type": "execute_result"
    }
   ],
   "source": [
    "# Caso jogue a moeda 10 vezes, qual a chance de dar 4 ou menos caras?\n",
    "dist = stats.binom(5,0.50)\n",
    "dist.mean()"
   ]
  },
  {
   "cell_type": "markdown",
   "metadata": {},
   "source": [
    "Let’s go back to the starting problem, which was “There is a candidate who has a 48% chance of getting a vote from any given voter.  What is that candidate’s chances of getting at least 500 out of 1000 votes?”\n",
    "\n",
    "Hartshorn, Scott. Probability With The Binomial Distribution And Pascal's Triangle: A Key Idea In Statistics . Edição do Kindle. "
   ]
  },
  {
   "cell_type": "code",
   "execution_count": 353,
   "metadata": {
    "scrolled": true
   },
   "outputs": [
    {
     "data": {
      "text/plain": [
       "0.9027460086403207"
      ]
     },
     "execution_count": 353,
     "metadata": {},
     "output_type": "execute_result"
    }
   ],
   "source": [
    "dist = stats.binom(1000,0.480)\n",
    "dist.cdf(500)"
   ]
  },
  {
   "cell_type": "markdown",
   "metadata": {},
   "source": [
    "Ou seja 90.3% de chance de ter até 500\n",
    "\n",
    "Ou, 9.7% de chance de obter 500 ou mais"
   ]
  },
  {
   "cell_type": "code",
   "execution_count": 391,
   "metadata": {},
   "outputs": [],
   "source": [
    "class CoinTest(HypotesisTest):\n",
    "\n",
    "    def test_statistic(self, data):\n",
    "        heads, tails = data\n",
    "        return abs(heads-tails)\n",
    "\n",
    "    def run_model(self):\n",
    "        heads, tails = self.data\n",
    "        lenght = heads + tails\n",
    "        simulation = np.random.choice(['H','T'],lenght)\n",
    "        data = np.sum(simulation == 'H'), np.sum(simulation == 'T')\n",
    "        return data"
   ]
  },
  {
   "cell_type": "code",
   "execution_count": 431,
   "metadata": {},
   "outputs": [
    {
     "data": {
      "text/plain": [
       "0.04168"
      ]
     },
     "execution_count": 431,
     "metadata": {},
     "output_type": "execute_result"
    }
   ],
   "source": [
    "coin_test = CoinTest([100,130])\n",
    "coin_test.p_value(100000)"
   ]
  },
  {
   "cell_type": "code",
   "execution_count": 430,
   "metadata": {},
   "outputs": [
    {
     "data": {
      "text/plain": [
       "0.04071252910009626"
      ]
     },
     "execution_count": 430,
     "metadata": {},
     "output_type": "execute_result"
    }
   ],
   "source": [
    "# Caso jogue a moeda 230 vezes, qual a chance de dar 130 caras/coroas ou mais\n",
    "dist = stats.binom(230,0.50)\n",
    "(1-dist.cdf(130))*2"
   ]
  },
  {
   "cell_type": "code",
   "execution_count": 432,
   "metadata": {},
   "outputs": [
    {
     "data": {
      "text/plain": [
       "Power_divergenceResult(statistic=3.9130434782608696, pvalue=0.04791275500844781)"
      ]
     },
     "execution_count": 432,
     "metadata": {},
     "output_type": "execute_result"
    }
   ],
   "source": [
    "stats.chisquare([100,130])"
   ]
  },
  {
   "cell_type": "markdown",
   "metadata": {},
   "source": [
    "# Multinomial \n",
    "\n",
    "\n",
    "``scipy.stats.multinomial.pmf(x, n, p)``\n",
    "\n",
    "Probability mass function.\n",
    "\n",
    "However simply using the equation is straight forward.  Let’s say you have a sack with a large number of balls.  (Large so that the probability doesn’t change as you draw balls from it).   50% of the balls are red, 30% are blue, and 20% are green. If you draw 9 balls, what are the odds that you will pull exactly 4 red ones, 3 blue ones, and 2 green ones?\n",
    "\n",
    "Hartshorn, Scott. Probability With The Binomial Distribution And Pascal's Triangle: A Key Idea In Statistics . Edição do Kindle. "
   ]
  },
  {
   "cell_type": "code",
   "execution_count": 359,
   "metadata": {},
   "outputs": [],
   "source": [
    "dist = stats.multinomial(9,[0.5,0.3,0.2])"
   ]
  },
  {
   "cell_type": "code",
   "execution_count": 361,
   "metadata": {},
   "outputs": [
    {
     "data": {
      "text/plain": [
       "0.08504999999999983"
      ]
     },
     "execution_count": 361,
     "metadata": {},
     "output_type": "execute_result"
    }
   ],
   "source": [
    "dist.pmf([4,3,2])"
   ]
  },
  {
   "cell_type": "markdown",
   "metadata": {},
   "source": [
    "Ou seja, 8.5% de ocorrer essa combinação"
   ]
  },
  {
   "cell_type": "markdown",
   "metadata": {},
   "source": [
    "# Chi Squared\n",
    "\n",
    "O teste é utilizado para testar proporções\n",
    "\n",
    "- from scipy.stats import chisquare\n",
    "\n",
    "stats.chisquare(f_obs, f_exp=None, ddof=0, axis=0)"
   ]
  },
  {
   "cell_type": "markdown",
   "metadata": {},
   "source": [
    "Qual a chance de jogarmos dados e cair os valores 1,2,3,4,5,6 com as seguintes frequencias [8, 9, 19, 5, 8, 11] ou frenquencias mais proximas a normalidade? Chi square penaliza diferenças maiores, pois eleva cada uma delas ao quadrado."
   ]
  },
  {
   "cell_type": "code",
   "execution_count": 367,
   "metadata": {},
   "outputs": [
    {
     "data": {
      "text/plain": [
       "Power_divergenceResult(statistic=11.6, pvalue=0.040699388504049985)"
      ]
     },
     "execution_count": 367,
     "metadata": {},
     "output_type": "execute_result"
    }
   ],
   "source": [
    "from scipy import stats\n",
    "stats.chisquare([8, 9, 19, 5, 8, 11])"
   ]
  },
  {
   "cell_type": "markdown",
   "metadata": {},
   "source": [
    "No caso seria 4%. No caso dos dados, todos os valores são igualmente provaveis, caso quisermos testar a probabilidade de algo ocorrer passando as frequencias devidas, também é possível."
   ]
  },
  {
   "cell_type": "code",
   "execution_count": 373,
   "metadata": {},
   "outputs": [
    {
     "data": {
      "text/plain": [
       "Power_divergenceResult(statistic=5.0, pvalue=0.4158801869955079)"
      ]
     },
     "execution_count": 373,
     "metadata": {},
     "output_type": "execute_result"
    }
   ],
   "source": [
    "from scipy import stats\n",
    "stats.chisquare([5,5,5,5,5,11])"
   ]
  },
  {
   "cell_type": "code",
   "execution_count": 372,
   "metadata": {},
   "outputs": [
    {
     "data": {
      "text/plain": [
       "Power_divergenceResult(statistic=0.9999999999999999, pvalue=0.9625657732472964)"
      ]
     },
     "execution_count": 372,
     "metadata": {},
     "output_type": "execute_result"
    }
   ],
   "source": [
    "from scipy import stats\n",
    "stats.chisquare([7,5,7,5,7,5])"
   ]
  },
  {
   "cell_type": "markdown",
   "metadata": {},
   "source": [
    "Exemplo, nos testes acima, é bem mais provavel que a que cada valor esteja fora da frenquencia mais comum por 1, do que um valor com um desvio muito maior que os outros. \n",
    "\n",
    "This example demonstrates a limitation of chi-squared tests: they indicate\n",
    "that there is a difference between the two groups, but they don’t say anything\n",
    "specific about what the difference is."
   ]
  },
  {
   "cell_type": "code",
   "execution_count": 545,
   "metadata": {},
   "outputs": [],
   "source": [
    "class DiceTest(HypotesisTest):\n",
    "    def test_statistic(self, data):\n",
    "        observed = data\n",
    "        n = sum(observed)\n",
    "        expected = np.ones(6) * n / 6\n",
    "        test_stat = sum(abs(observed - expected))\n",
    "        return test_stat\n",
    "\n",
    "    def run_model(self):\n",
    "        n = sum(self.data)\n",
    "        values = [1, 2, 3, 4, 5, 6]\n",
    "        rolls = np.random.choice(values, n, replace=True)\n",
    "        counter = Counter(rolls)        \n",
    "        return [counter[i] for i in range(1,7)]\n",
    "\n",
    "class DiceChiTest(DiceTest):\n",
    "    def test_statistic(self, data):\n",
    "        observed = data\n",
    "        n = sum(observed)\n",
    "        expected = np.ones(6) * n / 6\n",
    "        test_stat = sum((observed - expected)**2 / expected)\n",
    "        return test_stat"
   ]
  },
  {
   "cell_type": "code",
   "execution_count": 546,
   "metadata": {},
   "outputs": [],
   "source": [
    "values = [1, 2, 3, 4, 5, 6]\n",
    "rolls = np.random.choice(values, 1000, replace=True)"
   ]
  },
  {
   "cell_type": "code",
   "execution_count": 549,
   "metadata": {},
   "outputs": [
    {
     "data": {
      "text/plain": [
       "0.412"
      ]
     },
     "execution_count": 549,
     "metadata": {},
     "output_type": "execute_result"
    }
   ],
   "source": [
    "dice = DiceChiTest([5,5,5,5,5,11])\n",
    "dice_p_value = dice.p_value()\n",
    "dice_p_value"
   ]
  },
  {
   "cell_type": "code",
   "execution_count": 553,
   "metadata": {},
   "outputs": [
    {
     "data": {
      "text/plain": [
       "0.951"
      ]
     },
     "execution_count": 553,
     "metadata": {},
     "output_type": "execute_result"
    }
   ],
   "source": [
    "dice = DiceChiTest([7,5,7,5,7,5])\n",
    "dice_p_value = dice.p_value()\n",
    "dice_p_value"
   ]
  },
  {
   "cell_type": "code",
   "execution_count": null,
   "metadata": {},
   "outputs": [],
   "source": []
  },
  {
   "cell_type": "code",
   "execution_count": null,
   "metadata": {},
   "outputs": [],
   "source": []
  },
  {
   "cell_type": "code",
   "execution_count": null,
   "metadata": {},
   "outputs": [],
   "source": []
  }
 ],
 "metadata": {
  "kernelspec": {
   "display_name": "Python 3",
   "language": "python",
   "name": "python3"
  },
  "language_info": {
   "codemirror_mode": {
    "name": "ipython",
    "version": 3
   },
   "file_extension": ".py",
   "mimetype": "text/x-python",
   "name": "python",
   "nbconvert_exporter": "python",
   "pygments_lexer": "ipython3",
   "version": "3.7.3"
  }
 },
 "nbformat": 4,
 "nbformat_minor": 2
}
